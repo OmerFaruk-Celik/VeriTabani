{
    "metadata": {
        "kernelspec": {
            "name": "SQL",
            "display_name": "SQL",
            "language": "sql"
        },
        "language_info": {
            "name": "sql",
            "version": ""
        }
    },
    "nbformat_minor": 2,
    "nbformat": 4,
    "cells": [
        {
            "cell_type": "code",
            "source": [
                "if object_id('hr.person','U') is not null\n",
                "    drop table hr.person;\n",
                "\n",
                "go\n",
                "\n",
                "create schema hr;\n",
                "go\n",
                "create table hr.person(person_id int IDENTITY (1,1) primary key,\n",
                "first_name varchar(50) not null,\n",
                "last_name varchar(50) not null,\n",
                "gender char(1) not null\n",
                ");\n",
                "\n",
                "go\n",
                "insert into hr.person(first_name, last_name, gender)\n",
                "--output inserted.person_id\n",
                "values('hakan','çelik','M');\n",
                "GO\n",
                "\n",
                "--select * from hr.person;\n",
                "\n",
                "GO\n",
                "\n",
                "insert into hr.person(first_name,last_name,gender)\n",
                "    --output inserted.person_id\n",
                "    values('Ömer Faruk','çelik','M');\n",
                "go\n",
                "--select * from hr.person;\n",
                "\n",
                "GO\n",
                "delete from hr.person;\n",
                "GO\n",
                "\n",
                "\n",
                "\n",
                "dbcc checkident ('hr.person',reseed,0);\n",
                "\n",
                "go\n",
                "--select * from hr.person;\n",
                "alter table hr.person\n",
                "    ADD\n",
                "        yas decimal(10,1) not null;\n",
                "\n",
                "GO\n",
                "\n",
                "\n",
                "\n",
                "insert into hr.person(first_name, last_name,gender,yas)\n",
                "    values('Mert Kadıoğlu','Kadıköy','M',21);\n",
                "--GO\n",
                "--select * from hr.person;\n",
                "\n",
                "create table hr.person2(\n",
                "    kimlik int identity(1000,1) primary key,\n",
                "    isim varchar(50) not null,\n",
                "    yas decimal(3,0) not null,\n",
                "    gender char(1) not null\n",
                ");\n",
                "go\n",
                "delete from hr.person2;\n",
                "dbcc checkident('hr.person2',reseed,1000);\n",
                "\n",
                "go\n",
                "insert into hr.person2(isim,yas,gender)\n",
                "    values\n",
                "    ('Ömer',100,'M'),\n",
                "    ('Hakan',97,'M'),\n",
                "    ('Kenan',90,'M');\n",
                "\n",
                "GO\n",
                "\n",
                "select * from hr.person2;\n",
                "go\n",
                "\n",
                "insert into hr.person2(isim, yas, gender)\n",
                "    values('Mehmet', 30, 'M');\n",
                "\n",
                "go\n",
                "\n",
                "select * from hr.person2;\n",
                "GO\n",
                "\n",
                "alter table hr.person2\n",
                "    ADD\n",
                "        insan_mi char(1) not null default('H');\n",
                "\n",
                "GO\n",
                "\n",
                "select * from hr.person2;"
            ],
            "metadata": {
                "azdata_cell_guid": "a0f500bf-41aa-4619-95ad-5773f805e2b4",
                "language": "sql"
            },
            "outputs": [
                {
                    "output_type": "display_data",
                    "data": {
                        "text/html": "Commands completed successfully."
                    },
                    "metadata": {}
                },
                {
                    "output_type": "error",
                    "evalue": "Msg 2714, Level 16, State 6, Line 6\nThere is already an object named 'hr' in the database.",
                    "ename": "",
                    "traceback": []
                },
                {
                    "output_type": "error",
                    "evalue": "Msg 2759, Level 16, State 0, Line 6\nCREATE SCHEMA failed due to previous errors.",
                    "ename": "",
                    "traceback": []
                },
                {
                    "output_type": "display_data",
                    "data": {
                        "text/html": "Commands completed successfully."
                    },
                    "metadata": {}
                },
                {
                    "output_type": "display_data",
                    "data": {
                        "text/html": "(1 row affected)"
                    },
                    "metadata": {}
                },
                {
                    "output_type": "display_data",
                    "data": {
                        "text/html": "Commands completed successfully."
                    },
                    "metadata": {}
                },
                {
                    "output_type": "display_data",
                    "data": {
                        "text/html": "(1 row affected)"
                    },
                    "metadata": {}
                },
                {
                    "output_type": "display_data",
                    "data": {
                        "text/html": "Commands completed successfully."
                    },
                    "metadata": {}
                },
                {
                    "output_type": "display_data",
                    "data": {
                        "text/html": "(2 rows affected)"
                    },
                    "metadata": {}
                },
                {
                    "output_type": "display_data",
                    "data": {
                        "text/html": "Checking identity information: current identity value '2'."
                    },
                    "metadata": {}
                },
                {
                    "output_type": "display_data",
                    "data": {
                        "text/html": "DBCC execution completed. If DBCC printed error messages, contact your system administrator."
                    },
                    "metadata": {}
                },
                {
                    "output_type": "display_data",
                    "data": {
                        "text/html": "Commands completed successfully."
                    },
                    "metadata": {}
                },
                {
                    "output_type": "display_data",
                    "data": {
                        "text/html": "(1 row affected)"
                    },
                    "metadata": {}
                },
                {
                    "output_type": "error",
                    "evalue": "Msg 2714, Level 16, State 6, Line 53\nThere is already an object named 'person2' in the database.",
                    "ename": "",
                    "traceback": []
                },
                {
                    "output_type": "display_data",
                    "data": {
                        "text/html": "(4 rows affected)"
                    },
                    "metadata": {}
                },
                {
                    "output_type": "display_data",
                    "data": {
                        "text/html": "Checking identity information: current identity value '1004'."
                    },
                    "metadata": {}
                },
                {
                    "output_type": "display_data",
                    "data": {
                        "text/html": "DBCC execution completed. If DBCC printed error messages, contact your system administrator."
                    },
                    "metadata": {}
                },
                {
                    "output_type": "display_data",
                    "data": {
                        "text/html": "(3 rows affected)"
                    },
                    "metadata": {}
                },
                {
                    "output_type": "display_data",
                    "data": {
                        "text/html": "(3 rows affected)"
                    },
                    "metadata": {}
                },
                {
                    "output_type": "display_data",
                    "data": {
                        "text/html": "(1 row affected)"
                    },
                    "metadata": {}
                },
                {
                    "output_type": "display_data",
                    "data": {
                        "text/html": "(4 rows affected)"
                    },
                    "metadata": {}
                },
                {
                    "output_type": "display_data",
                    "data": {
                        "text/html": "Commands completed successfully."
                    },
                    "metadata": {}
                },
                {
                    "output_type": "display_data",
                    "data": {
                        "text/html": "(4 rows affected)"
                    },
                    "metadata": {}
                },
                {
                    "output_type": "display_data",
                    "data": {
                        "text/html": "Total execution time: 00:00:00.037"
                    },
                    "metadata": {}
                },
                {
                    "output_type": "execute_result",
                    "metadata": {},
                    "execution_count": 5,
                    "data": {
                        "application/vnd.dataresource+json": {
                            "schema": {
                                "fields": [
                                    {
                                        "name": "kimlik"
                                    },
                                    {
                                        "name": "isim"
                                    },
                                    {
                                        "name": "yas"
                                    },
                                    {
                                        "name": "gender"
                                    }
                                ]
                            },
                            "data": [
                                {
                                    "kimlik": "1001",
                                    "isim": "Ömer",
                                    "yas": "100",
                                    "gender": "M"
                                },
                                {
                                    "kimlik": "1002",
                                    "isim": "Hakan",
                                    "yas": "97",
                                    "gender": "M"
                                },
                                {
                                    "kimlik": "1003",
                                    "isim": "Kenan",
                                    "yas": "90",
                                    "gender": "M"
                                }
                            ]
                        },
                        "text/html": [
                            "<table>",
                            "<tr><th>kimlik</th><th>isim</th><th>yas</th><th>gender</th></tr>",
                            "<tr><td>1001</td><td>Ömer</td><td>100</td><td>M</td></tr>",
                            "<tr><td>1002</td><td>Hakan</td><td>97</td><td>M</td></tr>",
                            "<tr><td>1003</td><td>Kenan</td><td>90</td><td>M</td></tr>",
                            "</table>"
                        ]
                    }
                },
                {
                    "output_type": "execute_result",
                    "metadata": {},
                    "execution_count": 5,
                    "data": {
                        "application/vnd.dataresource+json": {
                            "schema": {
                                "fields": [
                                    {
                                        "name": "kimlik"
                                    },
                                    {
                                        "name": "isim"
                                    },
                                    {
                                        "name": "yas"
                                    },
                                    {
                                        "name": "gender"
                                    }
                                ]
                            },
                            "data": [
                                {
                                    "kimlik": "1001",
                                    "isim": "Ömer",
                                    "yas": "100",
                                    "gender": "M"
                                },
                                {
                                    "kimlik": "1002",
                                    "isim": "Hakan",
                                    "yas": "97",
                                    "gender": "M"
                                },
                                {
                                    "kimlik": "1003",
                                    "isim": "Kenan",
                                    "yas": "90",
                                    "gender": "M"
                                },
                                {
                                    "kimlik": "1004",
                                    "isim": "Mehmet",
                                    "yas": "30",
                                    "gender": "M"
                                }
                            ]
                        },
                        "text/html": [
                            "<table>",
                            "<tr><th>kimlik</th><th>isim</th><th>yas</th><th>gender</th></tr>",
                            "<tr><td>1001</td><td>Ömer</td><td>100</td><td>M</td></tr>",
                            "<tr><td>1002</td><td>Hakan</td><td>97</td><td>M</td></tr>",
                            "<tr><td>1003</td><td>Kenan</td><td>90</td><td>M</td></tr>",
                            "<tr><td>1004</td><td>Mehmet</td><td>30</td><td>M</td></tr>",
                            "</table>"
                        ]
                    }
                },
                {
                    "output_type": "execute_result",
                    "metadata": {},
                    "execution_count": 5,
                    "data": {
                        "application/vnd.dataresource+json": {
                            "schema": {
                                "fields": [
                                    {
                                        "name": "kimlik"
                                    },
                                    {
                                        "name": "isim"
                                    },
                                    {
                                        "name": "yas"
                                    },
                                    {
                                        "name": "gender"
                                    },
                                    {
                                        "name": "insan_mi"
                                    }
                                ]
                            },
                            "data": [
                                {
                                    "kimlik": "1001",
                                    "isim": "Ömer",
                                    "yas": "100",
                                    "gender": "M",
                                    "insan_mi": "H"
                                },
                                {
                                    "kimlik": "1002",
                                    "isim": "Hakan",
                                    "yas": "97",
                                    "gender": "M",
                                    "insan_mi": "H"
                                },
                                {
                                    "kimlik": "1003",
                                    "isim": "Kenan",
                                    "yas": "90",
                                    "gender": "M",
                                    "insan_mi": "H"
                                },
                                {
                                    "kimlik": "1004",
                                    "isim": "Mehmet",
                                    "yas": "30",
                                    "gender": "M",
                                    "insan_mi": "H"
                                }
                            ]
                        },
                        "text/html": [
                            "<table>",
                            "<tr><th>kimlik</th><th>isim</th><th>yas</th><th>gender</th><th>insan_mi</th></tr>",
                            "<tr><td>1001</td><td>Ömer</td><td>100</td><td>M</td><td>H</td></tr>",
                            "<tr><td>1002</td><td>Hakan</td><td>97</td><td>M</td><td>H</td></tr>",
                            "<tr><td>1003</td><td>Kenan</td><td>90</td><td>M</td><td>H</td></tr>",
                            "<tr><td>1004</td><td>Mehmet</td><td>30</td><td>M</td><td>H</td></tr>",
                            "</table>"
                        ]
                    }
                }
            ],
            "execution_count": 5
        }
    ]
}